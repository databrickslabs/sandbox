{
 "cells": [
  {
   "cell_type": "code",
   "execution_count": 0,
   "metadata": {
    "application/vnd.databricks.v1+cell": {
     "cellMetadata": {
      "byteLimit": 2048000,
      "rowLimit": 10000
     },
     "inputWidgets": {},
     "nuid": "357c1422-cb8b-46e0-88fb-43609eda88ff",
     "showTitle": false,
     "tableResultSettingsMap": {},
     "title": ""
    }
   },
   "outputs": [],
   "source": [
    "from databricks.sdk import WorkspaceClient\n",
    "from helpers.compute_analyzer import analyze_clusters, analyze_cluster_policies, analyze_jobs, analyze_dlt_pipelines\n",
    "\n",
    "import sys\n",
    "import os\n",
    "import pprint\n",
    "import json"
   ]
  },
  {
   "cell_type": "code",
   "execution_count": 0,
   "metadata": {
    "application/vnd.databricks.v1+cell": {
     "cellMetadata": {
      "byteLimit": 2048000,
      "rowLimit": 10000
     },
     "inputWidgets": {},
     "nuid": "56f06b45-28e2-4779-96bd-0ab66078d2ca",
     "showTitle": false,
     "tableResultSettingsMap": {},
     "title": ""
    }
   },
   "outputs": [],
   "source": [
    "dbutils.widgets.text(\"output_dir\", \"\", \"Output directory (UC Volume, etc.)\")"
   ]
  },
  {
   "cell_type": "code",
   "execution_count": 0,
   "metadata": {
    "application/vnd.databricks.v1+cell": {
     "cellMetadata": {
      "byteLimit": 2048000,
      "rowLimit": 10000
     },
     "inputWidgets": {},
     "nuid": "a81b5580-eb7f-424a-9175-f74328b40d2b",
     "showTitle": false,
     "tableResultSettingsMap": {},
     "title": ""
    }
   },
   "outputs": [],
   "source": [
    "output_dir = dbutils.widgets.get(\"output_dir\")"
   ]
  },
  {
   "cell_type": "code",
   "execution_count": 0,
   "metadata": {
    "application/vnd.databricks.v1+cell": {
     "cellMetadata": {
      "byteLimit": 2048000,
      "rowLimit": 10000
     },
     "inputWidgets": {},
     "nuid": "1de82ddf-c56e-4caf-ae73-2c79787a5aac",
     "showTitle": false,
     "tableResultSettingsMap": {},
     "title": ""
    }
   },
   "outputs": [],
   "source": [
    "wc = WorkspaceClient()\n",
    "full_results: dict = {}"
   ]
  },
  {
   "cell_type": "code",
   "execution_count": 0,
   "metadata": {
    "application/vnd.databricks.v1+cell": {
     "cellMetadata": {
      "byteLimit": 2048000,
      "rowLimit": 10000
     },
     "inputWidgets": {},
     "nuid": "b9e25def-1302-464d-9b9c-bca1d3c25e56",
     "showTitle": true,
     "tableResultSettingsMap": {},
     "title": "Scan clusters"
    }
   },
   "outputs": [],
   "source": [
    "print(\"Starting scanning clusters\")\n",
    "cluster_results = analyze_clusters(wc)\n",
    "if cluster_results:\n",
    "    print(f\"Found {len(cluster_results)} clusters using DBFS\")\n",
    "    full_results[\"clusters\"] = cluster_results\n",
    "else:\n",
    "    print(\"No clusters using DBFS found\")"
   ]
  },
  {
   "cell_type": "code",
   "execution_count": 0,
   "metadata": {
    "application/vnd.databricks.v1+cell": {
     "cellMetadata": {
      "byteLimit": 2048000,
      "rowLimit": 10000
     },
     "inputWidgets": {},
     "nuid": "08bd9988-5cdf-4b7f-9df3-4c9e21cb71ed",
     "showTitle": true,
     "tableResultSettingsMap": {},
     "title": "Scan cluster policies"
    }
   },
   "outputs": [],
   "source": [
    "print(\"Starting scanning cluster policies\")\n",
    "cluster_policy_results = analyze_cluster_policies(wc)\n",
    "if cluster_policy_results:\n",
    "    print(f\"Found {len(cluster_policy_results)} cluster policies using DBFS\")\n",
    "    full_results[\"cluster_policies\"] = cluster_policy_results\n",
    "else:\n",
    "    print(\"No cluster policies using DBFS found\")"
   ]
  },
  {
   "cell_type": "code",
   "execution_count": 0,
   "metadata": {
    "application/vnd.databricks.v1+cell": {
     "cellMetadata": {
      "byteLimit": 2048000,
      "rowLimit": 10000
     },
     "inputWidgets": {},
     "nuid": "6e5d7c98-3756-4a10-983b-6831972527d4",
     "showTitle": true,
     "tableResultSettingsMap": {},
     "title": "Scan jobs"
    }
   },
   "outputs": [],
   "source": [
    "print(\"Starting scanning jobs\")\n",
    "jobs_results = analyze_jobs(wc)\n",
    "if jobs_results:\n",
    "    print(f\"Found {len(jobs_results)} jobs using DBFS\")\n",
    "    full_results[\"jobs\"] = jobs_results\n",
    "else:\n",
    "    print(\"No jobs using DBFS found\")"
   ]
  },
  {
   "cell_type": "code",
   "execution_count": 0,
   "metadata": {
    "application/vnd.databricks.v1+cell": {
     "cellMetadata": {
      "byteLimit": 2048000,
      "rowLimit": 10000
     },
     "inputWidgets": {},
     "nuid": "8368e7ab-2dbe-4317-b8f9-976136a516bb",
     "showTitle": true,
     "tableResultSettingsMap": {},
     "title": "Scan DLT pipelines"
    }
   },
   "outputs": [],
   "source": [
    "print(\"Starting scanning DLT pipelines\")\n",
    "dlt_results = analyze_dlt_pipelines(wc)\n",
    "if dlt_results:\n",
    "    print(f\"Found {len(dlt_results)} DLT pipelines using DBFS\")\n",
    "    full_results[\"dlt\"] = dlt_results\n",
    "else:\n",
    "    print(\"No DLT pipelines using DBFS found\")"
   ]
  },
  {
   "cell_type": "code",
   "execution_count": 0,
   "metadata": {
    "application/vnd.databricks.v1+cell": {
     "cellMetadata": {
      "byteLimit": 2048000,
      "rowLimit": 10000
     },
     "inputWidgets": {},
     "nuid": "92818870-f412-48ba-802a-11192a9c8c64",
     "showTitle": false,
     "tableResultSettingsMap": {},
     "title": ""
    }
   },
   "outputs": [],
   "source": [
    "print(\"Scan results: \")\n",
    "pprint.pprint(full_results)\n",
    "if output_dir:\n",
    "    with open(os.path.join(output_dir, \"compute_scan_results.json\"), \"w\") as f:\n",
    "        f.write(json.dumps(full_results, indent=4))"
   ]
  }
 ],
 "metadata": {
  "application/vnd.databricks.v1+notebook": {
   "computePreferences": null,
   "dashboards": [],
   "environmentMetadata": {
    "base_environment": "",
    "environment_version": "2"
   },
   "inputWidgetPreferences": null,
   "language": "python",
   "notebookMetadata": {
    "pythonIndentUnit": 4
   },
   "notebookName": "scan_compute_nb",
   "widgets": {
    "output_dir": {
     "currentValue": "",
     "nuid": "a0ee5f17-0169-4dc8-8c21-1ea33b481906",
     "typedWidgetInfo": {
      "autoCreated": false,
      "defaultValue": "",
      "label": "Output directory (UC Volume, etc.)",
      "name": "output_dir",
      "options": {
       "widgetDisplayType": "Text",
       "validationRegex": null
      },
      "parameterDataType": "String"
     },
     "widgetInfo": {
      "widgetType": "text",
      "defaultValue": "",
      "label": "Output directory (UC Volume, etc.)",
      "name": "output_dir",
      "options": {
       "widgetType": "text",
       "autoCreated": false,
       "validationRegex": null
      }
     }
    }
   }
  },
  "language_info": {
   "name": "python"
  }
 },
 "nbformat": 4,
 "nbformat_minor": 0
}
