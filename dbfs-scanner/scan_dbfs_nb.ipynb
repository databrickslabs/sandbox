{
 "cells": [
  {
   "cell_type": "code",
   "execution_count": 0,
   "metadata": {
    "application/vnd.databricks.v1+cell": {
     "cellMetadata": {
      "byteLimit": 2048000,
      "rowLimit": 10000
     },
     "inputWidgets": {},
     "nuid": "357c1422-cb8b-46e0-88fb-43609eda88ff",
     "showTitle": false,
     "tableResultSettingsMap": {},
     "title": ""
    }
   },
   "outputs": [],
   "source": [
    "from databricks.sdk import WorkspaceClient\n",
    "from helpers.dbfs_analyzer import scan_dbfs\n",
    "\n",
    "import sys\n",
    "import os\n",
    "import pprint\n",
    "import json"
   ]
  },
  {
   "cell_type": "code",
   "execution_count": 0,
   "metadata": {
    "application/vnd.databricks.v1+cell": {
     "cellMetadata": {
      "byteLimit": 2048000,
      "rowLimit": 10000
     },
     "inputWidgets": {},
     "nuid": "56f06b45-28e2-4779-96bd-0ab66078d2ca",
     "showTitle": false,
     "tableResultSettingsMap": {},
     "title": ""
    }
   },
   "outputs": [],
   "source": [
    "dbutils.widgets.text(\"start_dir\", \"/\", \"Directory to scan\")\n",
    "dbutils.widgets.text(\"output_dir\", \"\", \"Output directory (UC Volume, etc.)\")"
   ]
  },
  {
   "cell_type": "code",
   "execution_count": 0,
   "metadata": {
    "application/vnd.databricks.v1+cell": {
     "cellMetadata": {
      "byteLimit": 2048000,
      "rowLimit": 10000
     },
     "inputWidgets": {},
     "nuid": "a81b5580-eb7f-424a-9175-f74328b40d2b",
     "showTitle": false,
     "tableResultSettingsMap": {},
     "title": ""
    }
   },
   "outputs": [],
   "source": [
    "path = dbutils.widgets.get(\"start_dir\")\n",
    "output_dir = dbutils.widgets.get(\"output_dir\")"
   ]
  },
  {
   "cell_type": "code",
   "execution_count": 0,
   "metadata": {
    "application/vnd.databricks.v1+cell": {
     "cellMetadata": {
      "byteLimit": 2048000,
      "rowLimit": 10000
     },
     "inputWidgets": {},
     "nuid": "1de82ddf-c56e-4caf-ae73-2c79787a5aac",
     "showTitle": false,
     "tableResultSettingsMap": {},
     "title": ""
    }
   },
   "outputs": [],
   "source": [
    "wc = WorkspaceClient()\n",
    "results = {}\n",
    "print(\"Starting scanning DBFS at path:\", path)\n",
    "scan_dbfs(wc, results, path)\n"
   ]
  },
  {
   "cell_type": "code",
   "execution_count": 0,
   "metadata": {
    "application/vnd.databricks.v1+cell": {
     "cellMetadata": {},
     "inputWidgets": {},
     "nuid": "92818870-f412-48ba-802a-11192a9c8c64",
     "showTitle": false,
     "tableResultSettingsMap": {},
     "title": ""
    }
   },
   "outputs": [],
   "source": [
    "print(\"Scan results: \")\n",
    "pprint.pprint(results)\n",
    "if output_dir:\n",
    "    with open(os.path.join(output_dir, \"dbfs_scan_results.json\"), \"w\") as f:\n",
    "        f.write(json.dumps(results, indent=4))"
   ]
  }
 ],
 "metadata": {
  "application/vnd.databricks.v1+notebook": {
   "computePreferences": null,
   "dashboards": [],
   "environmentMetadata": {
    "base_environment": "",
    "environment_version": "2"
   },
   "language": "python",
   "notebookMetadata": {
    "pythonIndentUnit": 4
   },
   "notebookName": "scan_dbfs_nb",
   "widgets": {
    "output_dir": {
     "currentValue": "",
     "nuid": "9a75db09-a76d-49dc-ab58-a4572b7d67bd",
     "typedWidgetInfo": {
      "autoCreated": false,
      "defaultValue": "",
      "label": "Output directory (UC Volume, etc.)",
      "name": "output_dir",
      "options": {
       "widgetDisplayType": "Text",
       "validationRegex": null
      },
      "parameterDataType": "String"
     },
     "widgetInfo": {
      "widgetType": "text",
      "defaultValue": "",
      "label": "Output directory (UC Volume, etc.)",
      "name": "output_dir",
      "options": {
       "widgetType": "text",
       "autoCreated": false,
       "validationRegex": null
      }
     }
    },
    "start_dir": {
     "currentValue": "/tmp",
     "nuid": "bcc56c24-6350-4111-b0d2-99cb7a4bff9a",
     "typedWidgetInfo": {
      "autoCreated": false,
      "defaultValue": "/",
      "label": "Directory to scan",
      "name": "start_dir",
      "options": {
       "widgetDisplayType": "Text",
       "validationRegex": null
      },
      "parameterDataType": "String"
     },
     "widgetInfo": {
      "widgetType": "text",
      "defaultValue": "/",
      "label": "Directory to scan",
      "name": "start_dir",
      "options": {
       "widgetType": "text",
       "autoCreated": null,
       "validationRegex": null
      }
     }
    }
   }
  },
  "language_info": {
   "name": "python"
  }
 },
 "nbformat": 4,
 "nbformat_minor": 0
}
