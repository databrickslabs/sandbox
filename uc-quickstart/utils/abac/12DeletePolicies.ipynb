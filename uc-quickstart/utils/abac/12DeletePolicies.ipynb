{
 "cells": [
  {
   "cell_type": "code",
   "execution_count": 0,
   "metadata": {
    "application/vnd.databricks.v1+cell": {
     "cellMetadata": {
      "byteLimit": 2048000,
      "rowLimit": 10000
     },
     "inputWidgets": {},
     "nuid": "ba22a2e2-e6af-4f68-ad2f-a00fc0d01c2f",
     "showTitle": false,
     "tableResultSettingsMap": {},
     "title": ""
    }
   },
   "outputs": [],
   "source": [
    "#Delete Policies\n",
    "from databricks.sdk import WorkspaceClient\n",
    "w = WorkspaceClient()\n",
    "\n",
    "w.api_client.do(\"DELETE\", \"/api/2.1/unity-catalog/policies/CATALOG/t3_a00cd1_snd_arg02_dbws01/12DEVELOPER_ONLY\");\n",
    "w.api_client.do(\"DELETE\", \"/api/2.1/unity-catalog/policies/CATALOG/t3_a00cd1_snd_arg02_dbws01/13PII\");\n",
    "w.api_client.do(\"DELETE\", \"/api/2.1/unity-catalog/policies/CATALOG/t3_a00cd1_snd_arg02_dbws01/13PHI\");"
   ]
  }
 ],
 "metadata": {
  "application/vnd.databricks.v1+notebook": {
   "computePreferences": null,
   "dashboards": [],
   "environmentMetadata": {
    "base_environment": "",
    "environment_version": "2"
   },
   "inputWidgetPreferences": null,
   "language": "python",
   "notebookMetadata": {
    "pythonIndentUnit": 4
   },
   "notebookName": "12DeletePolicies",
   "widgets": {}
  },
  "language_info": {
   "name": "python"
  }
 },
 "nbformat": 4,
 "nbformat_minor": 0
}
