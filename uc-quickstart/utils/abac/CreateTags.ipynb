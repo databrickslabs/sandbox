{
 "cells": [
  {
   "cell_type": "code",
   "execution_count": 0,
   "metadata": {
    "application/vnd.databricks.v1+cell": {
     "cellMetadata": {
      "byteLimit": 2048000,
      "rowLimit": 10000
     },
     "inputWidgets": {},
     "nuid": "070aee2c-bc4d-4a04-86f2-b4212319cf00",
     "showTitle": true,
     "tableResultSettingsMap": {},
     "title": "Set Up Workspace and Tag Policy API Configuration"
    }
   },
   "outputs": [],
   "source": [
    "import requests\n",
    "import json\n",
    "\n",
    "# Workspace settings\n",
    "workspace_url = \"https://adb-3133034344545702.2.azuredatabricks.net\"\n",
    "token = dbutils.notebook.entry_point.getDbutils().notebook().getContext().apiToken().get()\n",
    "headers = {\n",
    "    \"Authorization\": f\"Bearer {token}\",\n",
    "    \"Content-Type\": \"application/json\"\n",
    "}\n",
    "\n",
    "# Tag policy endpoint\n",
    "base_url = f\"{workspace_url}/api/2.0/tag-policies\"\n"
   ]
  },
  {
   "cell_type": "code",
   "execution_count": 0,
   "metadata": {
    "application/vnd.databricks.v1+cell": {
     "cellMetadata": {
      "byteLimit": 2048000,
      "rowLimit": 10000
     },
     "inputWidgets": {},
     "nuid": "ea9e04d4-0d0b-4e7b-9c82-059d16ab2169",
     "showTitle": true,
     "tableResultSettingsMap": {},
     "title": "Delete Developer Only Tag if Exists"
    }
   },
   "outputs": [],
   "source": [
    "tag_key = \"DEVELOPER_ONLY\"\n",
    "\n",
    "# Step 1: Delete the tag if it exists\n",
    "delete_url = f\"{base_url}/{tag_key}\"\n",
    "delete_response = requests.delete(delete_url, headers=headers)\n",
    "\n",
    "if delete_response.status_code in [200, 204, 404]:\n",
    "    print(f\"🗑 Deleted tag (or didn't exist): {tag_key}\")\n",
    "else:\n",
    "    raise Exception(f\"❌ Failed to delete tag: {delete_response.status_code}\\n{delete_response.text}\")\n",
    "\n",
    "\n"
   ]
  },
  {
   "cell_type": "code",
   "execution_count": 0,
   "metadata": {
    "application/vnd.databricks.v1+cell": {
     "cellMetadata": {
      "byteLimit": 2048000,
      "rowLimit": 10000
     },
     "inputWidgets": {},
     "nuid": "2cdac4cf-ce83-43cc-9390-a807e75491c9",
     "showTitle": false,
     "tableResultSettingsMap": {},
     "title": ""
    }
   },
   "outputs": [],
   "source": [
    "# Step 2: Create the tag with no values\n",
    "create_payload = {\n",
    "    \"tag_policy\": {\n",
    "        \"key\": tag_key,\n",
    "        \"values\": [],  # No predefined values\n",
    "        \"description\": \"Indicates data meant only for developers (governed tag)\"\n",
    "    }\n",
    "}\n",
    "\n",
    "create_response = requests.post(base_url, headers=headers, data=json.dumps(create_payload))\n",
    "\n",
    "if create_response.status_code == 200:\n",
    "    print(f\"✅ Created governed tag: {tag_key}\")\n",
    "else:\n",
    "    raise Exception(f\"❌ Failed to create tag: {create_response.status_code}\\n{create_response.text}\")"
   ]
  },
  {
   "cell_type": "code",
   "execution_count": 0,
   "metadata": {
    "application/vnd.databricks.v1+cell": {
     "cellMetadata": {
      "byteLimit": 2048000,
      "rowLimit": 10000
     },
     "inputWidgets": {},
     "nuid": "0d3fba8b-4d00-4e32-9c9d-56a8884480d3",
     "showTitle": false,
     "tableResultSettingsMap": {},
     "title": ""
    }
   },
   "outputs": [],
   "source": [
    "tag_key = \"SENSITIVITY\"\n",
    "tag_url = f\"{workspace_url}/api/2.0/tag-policies\"\n",
    "\n",
    "# Step 1: Delete the tag if it exists\n",
    "delete_url = f\"{tag_url}/{tag_key}\"\n",
    "delete_response = requests.delete(delete_url, headers=headers)\n",
    "\n",
    "if delete_response.status_code in [200, 204, 404]:\n",
    "    print(f\"🗑 Deleted (or did not exist): {tag_key}\")\n",
    "else:\n",
    "    raise Exception(f\"❌ Failed to delete tag: {delete_response.status_code}\\n{delete_response.text}\")\n"
   ]
  },
  {
   "cell_type": "code",
   "execution_count": 0,
   "metadata": {
    "application/vnd.databricks.v1+cell": {
     "cellMetadata": {
      "byteLimit": 2048000,
      "rowLimit": 10000
     },
     "inputWidgets": {},
     "nuid": "0d090b0e-8c5a-4987-98b6-d0cf349f94b5",
     "showTitle": false,
     "tableResultSettingsMap": {},
     "title": ""
    }
   },
   "outputs": [],
   "source": [
    "# Step 2: Create the tag with allowed values\n",
    "allowed_values = [\"CONFIDENTIAL\", \"PII\", \"HIGHLYSENSITIVE\", \"P\", \"GB\", \"HP\", \"PHI\"]\n",
    "\n",
    "create_payload = {\n",
    "    \"tag_policy\": {\n",
    "        \"key\": tag_key,\n",
    "        \"values\": [{\"name\": v} for v in allowed_values],\n",
    "        \"description\": \"Defines data sensitivity levels\"\n",
    "    }\n",
    "}\n",
    "\n",
    "create_response = requests.post(tag_url, headers=headers, data=json.dumps(create_payload))\n",
    "\n",
    "if create_response.status_code == 200:\n",
    "    print(f\"✅ Recreated tag: {tag_key} with values {allowed_values}\")\n",
    "else:\n",
    "    raise Exception(f\"❌ Failed to create tag: {create_response.status_code}\\n{create_response.text}\")"
   ]
  },
  {
   "cell_type": "code",
   "execution_count": 0,
   "metadata": {
    "application/vnd.databricks.v1+cell": {
     "cellMetadata": {
      "byteLimit": 2048000,
      "rowLimit": 10000
     },
     "inputWidgets": {},
     "nuid": "f9e3944e-ebe8-454f-8b3f-4d665c62bddf",
     "showTitle": false,
     "tableResultSettingsMap": {},
     "title": ""
    }
   },
   "outputs": [],
   "source": [
    "tag_key = \"DET_MASK_STRING\"\n",
    "\n",
    "# Step 1: Delete the tag if it exists\n",
    "delete_url = f\"{base_url}/{tag_key}\"\n",
    "delete_response = requests.delete(delete_url, headers=headers)\n",
    "\n",
    "if delete_response.status_code in [200, 204, 404]:\n",
    "    print(f\"🗑 Deleted tag (or didn't exist): {tag_key}\")\n",
    "else:\n",
    "    raise Exception(f\"❌ Failed to delete tag: {delete_response.status_code}\\n{delete_response.text}\")"
   ]
  },
  {
   "cell_type": "code",
   "execution_count": 0,
   "metadata": {
    "application/vnd.databricks.v1+cell": {
     "cellMetadata": {
      "byteLimit": 2048000,
      "rowLimit": 10000
     },
     "inputWidgets": {},
     "nuid": "5556de6c-284c-490b-a3b7-dc1335b76581",
     "showTitle": false,
     "tableResultSettingsMap": {},
     "title": ""
    }
   },
   "outputs": [],
   "source": [
    "# Step 2: Create the tag with no values\n",
    "create_payload = {\n",
    "    \"tag_policy\": {\n",
    "        \"key\": tag_key,\n",
    "        \"values\": [],  # No predefined values\n",
    "        \"description\": \"Indicates data meant only for developers (governed tag)\"\n",
    "    }\n",
    "}\n",
    "\n",
    "create_response = requests.post(base_url, headers=headers, data=json.dumps(create_payload))\n",
    "\n",
    "if create_response.status_code == 200:\n",
    "    print(f\"✅ Created governed tag: {tag_key}\")\n",
    "else:\n",
    "    raise Exception(f\"❌ Failed to create tag: {create_response.status_code}\\n{create_response.text}\")"
   ]
  }
 ],
 "metadata": {
  "application/vnd.databricks.v1+notebook": {
   "computePreferences": null,
   "dashboards": [],
   "environmentMetadata": {
    "base_environment": "",
    "environment_version": "2"
   },
   "inputWidgetPreferences": null,
   "language": "python",
   "notebookMetadata": {
    "mostRecentlyExecutedCommandWithImplicitDF": {
     "commandId": 5864021988087454,
     "dataframes": [
      "_sqldf"
     ]
    },
    "pythonIndentUnit": 4
   },
   "notebookName": "CreateTags",
   "widgets": {}
  },
  "language_info": {
   "name": "python"
  }
 },
 "nbformat": 4,
 "nbformat_minor": 0
}
