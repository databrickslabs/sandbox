{
 "cells": [
  {
   "cell_type": "code",
   "execution_count": 0,
   "metadata": {
    "application/vnd.databricks.v1+cell": {
     "cellMetadata": {
      "byteLimit": 2048000,
      "implicitDf": true,
      "rowLimit": 10000
     },
     "inputWidgets": {},
     "nuid": "7f1c49d4-2c07-4197-afc3-02ecc43cfbb6",
     "showTitle": false,
     "tableResultSettingsMap": {},
     "title": ""
    }
   },
   "outputs": [],
   "source": [
    "%sql\n",
    "CREATE OR REPLACE FUNCTION t3_a00cd1_snd_arg02_dbws01.ext_parquet.mask_for_all_roles(id DECIMAL)\n",
    "RETURNS DECIMAL\n",
    "RETURN  NULL\n",
    ";"
   ]
  },
  {
   "cell_type": "code",
   "execution_count": 0,
   "metadata": {
    "application/vnd.databricks.v1+cell": {
     "cellMetadata": {
      "byteLimit": 2048000,
      "rowLimit": 10000
     },
     "inputWidgets": {},
     "nuid": "4e2112aa-a992-44c7-9460-ecc659e0066c",
     "showTitle": false,
     "tableResultSettingsMap": {},
     "title": ""
    }
   },
   "outputs": [],
   "source": [
    "from databricks.sdk import WorkspaceClient\n",
    "import json\n",
    "\n",
    "w = WorkspaceClient()\n",
    "\n",
    "securable_type = \"CATALOG\"\n",
    "securable_full_name = \"t3_a00cd1_snd_arg02_dbws01\"\n",
    "policy_name = \"10MODERATED_CONTENT\"\n",
    "\n",
    "policy_payload={\n",
    " 'on_securable_type': 'CATALOG',\n",
    " 'on_securable_fullname': 't3_a00cd1_snd_arg02_dbws01',\n",
    " 'name': '10MODERATED_CONTENT',\n",
    " 'comment': 'Mask id column for all users except l205495 when MODERATED_CONTENT tag is present',\n",
    " 'to_principals': ['account users'],\n",
    " 'except_principals': ['l205495@sandpit0x8a.onmicrosoft.com'],\n",
    " 'for_securable_type': 'TABLE',\n",
    " 'rule_type': 'RULE_TYPE_COLUMN_MASK',\n",
    " 'policy_type': 'POLICY_TYPE_COLUMN_MASK',\n",
    " 'column_mask': {'function_name': 't3_a00cd1_snd_arg02_dbws01.ext_parquet.mask_for_all_roles',\n",
    "  'on_column': 'm',\n",
    "  'condition': \"hasTag('MODERATED_CONTENT')\"},\n",
    " 'match_columns': [{'condition': \"hasTag('MODERATED_CONTENT')\", 'alias': 'm'}]}\n",
    " \n",
    "\n",
    "\n",
    "# Delete policy if it exists\n",
    "try:\n",
    "    w.api_client.do(\n",
    "        \"DELETE\",\n",
    "        f\"/api/2.1/unity-catalog/policies/{securable_type}/{securable_full_name}/{policy_name}\"\n",
    "    )\n",
    "    print(f\"Deleted existing policy: {policy_name}\")\n",
    "except Exception as e:\n",
    "    if \"does not exist\" in str(e) or \"RESOURCE_DOES_NOT_EXIST\" in str(e) or \"NotFound\" in str(e):\n",
    "        print(f\"No existing policy to delete: {policy_name}\")\n",
    "    else:\n",
    "        raise\n",
    "\n",
    "# Create the policy fresh\n",
    "print(f\"Creating new policy: {policy_name}\")\n",
    "w.api_client.do(\n",
    "    \"POST\",\n",
    "    \"/api/2.1/unity-catalog/policies/\",\n",
    "    data=json.dumps(policy_payload)\n",
    ")\n"
   ]
  }
 ],
 "metadata": {
  "application/vnd.databricks.v1+notebook": {
   "computePreferences": null,
   "dashboards": [],
   "environmentMetadata": {
    "base_environment": "",
    "environment_version": "2"
   },
   "inputWidgetPreferences": null,
   "language": "python",
   "notebookMetadata": {
    "mostRecentlyExecutedCommandWithImplicitDF": {
     "commandId": 8922675975794932,
     "dataframes": [
      "_sqldf"
     ]
    },
    "pythonIndentUnit": 4
   },
   "notebookName": "ModeratedContent",
   "widgets": {}
  },
  "language_info": {
   "name": "python"
  }
 },
 "nbformat": 4,
 "nbformat_minor": 0
}
