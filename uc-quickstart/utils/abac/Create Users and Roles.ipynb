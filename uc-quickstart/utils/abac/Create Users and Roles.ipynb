{
 "cells": [
  {
   "cell_type": "code",
   "execution_count": 0,
   "metadata": {
    "application/vnd.databricks.v1+cell": {
     "cellMetadata": {
      "byteLimit": 2048000,
      "rowLimit": 10000
     },
     "inputWidgets": {},
     "nuid": "3e9cc2a2-ce21-45d7-a61e-f234471c6c12",
     "showTitle": false,
     "tableResultSettingsMap": {},
     "title": ""
    }
   },
   "outputs": [],
   "source": [
    "#Create User \n",
    "\n",
    "from databricks.sdk import WorkspaceClient\n",
    "import json\n",
    "\n",
    "w = WorkspaceClient()\n",
    "\n",
    "# Step 1: Create a user\n",
    "user_email = \"L19693912@sandpit0x8a.onmicrosoft.com\"\n",
    "\n",
    "create_user_resp = w.api_client.do(\n",
    "    \"POST\",\n",
    "    \"/api/2.0/preview/scim/v2/Users\",\n",
    "    data=json.dumps({\n",
    "        \"userName\": user_email,\n",
    "        \"emails\": [{\"value\": user_email, \"primary\": True}],\n",
    "        \"displayName\": \"User 101\"\n",
    "    })\n",
    ")\n",
    "user_id = create_user_resp[\"id\"]\n",
    "print(f\"✅ Created user: {user_email} (id={user_id})\")"
   ]
  },
  {
   "cell_type": "code",
   "execution_count": 0,
   "metadata": {
    "application/vnd.databricks.v1+cell": {
     "cellMetadata": {
      "byteLimit": 2048000,
      "rowLimit": 10000
     },
     "inputWidgets": {},
     "nuid": "46dc347a-a9ae-4f13-a6f7-518fcc3d6340",
     "showTitle": false,
     "tableResultSettingsMap": {},
     "title": ""
    }
   },
   "outputs": [],
   "source": [
    "# Step 2: Create a group\n",
    "group_name = \"T1\"\n",
    "\n",
    "create_group_resp = w.api_client.do(\n",
    "    \"POST\",\n",
    "    \"/api/2.0/preview/scim/v2/Groups\",\n",
    "    data=json.dumps({\n",
    "        \"displayName\": group_name\n",
    "    })\n",
    ")\n",
    "group_id = create_group_resp[\"id\"]\n",
    "print(f\"✅ Created group: {group_name} (id={group_id})\")"
   ]
  },
  {
   "cell_type": "code",
   "execution_count": 0,
   "metadata": {
    "application/vnd.databricks.v1+cell": {
     "cellMetadata": {
      "byteLimit": 2048000,
      "rowLimit": 10000
     },
     "inputWidgets": {},
     "nuid": "a1a40535-62d3-4426-85ae-5bad4870f24b",
     "showTitle": false,
     "tableResultSettingsMap": {},
     "title": ""
    }
   },
   "outputs": [],
   "source": [
    "# Step 3: Add user to group\n",
    "w.api_client.do(\n",
    "    \"PATCH\",\n",
    "    f\"/api/2.0/preview/scim/v2/Groups/{group_id}\",\n",
    "    data=json.dumps({\n",
    "        \"schemas\": [\"urn:ietf:params:scim:api:messages:2.0:PatchOp\"],\n",
    "        \"Operations\": [\n",
    "            {\n",
    "                \"op\": \"add\",\n",
    "                \"path\": \"members\",\n",
    "                \"value\": [{\"value\": user_id}]\n",
    "            }\n",
    "        ]\n",
    "    })\n",
    ")\n",
    "print(f\"✅ Added {user_email} to group {group_name}\")"
   ]
  }
 ],
 "metadata": {
  "application/vnd.databricks.v1+notebook": {
   "computePreferences": null,
   "dashboards": [],
   "environmentMetadata": {
    "base_environment": "",
    "environment_version": "2"
   },
   "inputWidgetPreferences": null,
   "language": "python",
   "notebookMetadata": {
    "pythonIndentUnit": 4
   },
   "notebookName": "Create Users and Roles",
   "widgets": {}
  },
  "language_info": {
   "name": "python"
  }
 },
 "nbformat": 4,
 "nbformat_minor": 0
}
