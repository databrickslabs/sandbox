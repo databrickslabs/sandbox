{
 "cells": [
  {
   "cell_type": "code",
   "execution_count": 0,
   "metadata": {
    "application/vnd.databricks.v1+cell": {
     "cellMetadata": {
      "byteLimit": 2048000,
      "implicitDf": true,
      "rowLimit": 10000
     },
     "inputWidgets": {},
     "nuid": "252298a6-82b2-4a44-bc33-5afc06be7aa6",
     "showTitle": false,
     "tableResultSettingsMap": {},
     "title": ""
    }
   },
   "outputs": [],
   "source": [
    "%sql\n",
    "ALTER TABLE t3_a00cd1_snd_arg02_dbws01.ext_parquet.customer\n",
    "ALTER COLUMN C_CUSTOMER_SK\n",
    "SET TAGS ('SENSITIVITY' = 'PII');\n",
    "\n",
    "ALTER TABLE t3_a00cd1_snd_arg02_dbws01.ext_parquet.customer\n",
    "ALTER COLUMN C_CURRENT_CDEMO_SK\n",
    "SET TAGS ('SENSITIVITY' = 'PHI');\n"
   ]
  },
  {
   "cell_type": "code",
   "execution_count": 0,
   "metadata": {
    "application/vnd.databricks.v1+cell": {
     "cellMetadata": {
      "byteLimit": 2048000,
      "rowLimit": 10000
     },
     "inputWidgets": {},
     "nuid": "6631714a-80bc-4eff-89f3-b0d735d3cc51",
     "showTitle": false,
     "tableResultSettingsMap": {},
     "title": ""
    }
   },
   "outputs": [],
   "source": [
    "from databricks.sdk import WorkspaceClient\n",
    "import json\n",
    "\n",
    "w = WorkspaceClient()\n",
    "\n",
    "securable_type = \"CATALOG\"\n",
    "securable_full_name = \"t3_a00cd1_snd_arg02_dbws01\"\n",
    "policy_name = \"13PHI\"\n",
    "\n",
    "policy_payload={'id': '41d8bdf2-fe87-4bc8-a6d4-d9d6c92d47db',\n",
    " 'on_securable_type': 'CATALOG',\n",
    " 'on_securable_fullname': 't3_a00cd1_snd_arg02_dbws01',\n",
    " 'name': '13PHI',\n",
    " 'comment': '',\n",
    " 'to_principals': ['account users'],\n",
    " 'except_principals': ['l205495@sandpit0x8a.onmicrosoft.com', 'Tester'],\n",
    " 'for_securable_type': 'TABLE',\n",
    " 'rule_type': 'RULE_TYPE_COLUMN_MASK',\n",
    " 'policy_type': 'POLICY_TYPE_COLUMN_MASK',\n",
    " 'column_mask': {'function_name': 't3_a00cd1_snd_arg02_dbws01.ext_parquet.mask_for_all_roles',\n",
    "  'on_column': 'm',\n",
    "  'condition': \"hasTagValue('SENSITIVITY','PHI')\"},\n",
    " 'match_columns': [{'condition': \"hasTagValue('SENSITIVITY','PHI')\",\n",
    "   'alias': 'm'}]\n",
    " }\n",
    " \n",
    "\n",
    "\n",
    "# Delete policy if it exists\n",
    "try:\n",
    "    w.api_client.do(\n",
    "        \"DELETE\",\n",
    "        f\"/api/2.1/unity-catalog/policies/{securable_type}/{securable_full_name}/{policy_name}\"\n",
    "    )\n",
    "    print(f\"Deleted existing policy: {policy_name}\")\n",
    "except Exception as e:\n",
    "    if \"does not exist\" in str(e) or \"RESOURCE_DOES_NOT_EXIST\" in str(e) or \"NotFound\" in str(e):\n",
    "        print(f\"No existing policy to delete: {policy_name}\")\n",
    "    else:\n",
    "        raise\n",
    "\n",
    "# Create the policy fresh\n",
    "print(f\"Creating new policy: {policy_name}\")\n",
    "w.api_client.do(\n",
    "    \"POST\",\n",
    "    \"/api/2.1/unity-catalog/policies/\",\n",
    "    data=json.dumps(policy_payload)\n",
    ")\n"
   ]
  },
  {
   "cell_type": "code",
   "execution_count": 0,
   "metadata": {
    "application/vnd.databricks.v1+cell": {
     "cellMetadata": {
      "byteLimit": 2048000,
      "rowLimit": 10000
     },
     "inputWidgets": {},
     "nuid": "ec9f1a11-ffd7-4364-8711-9536b65ef4f9",
     "showTitle": false,
     "tableResultSettingsMap": {},
     "title": ""
    }
   },
   "outputs": [],
   "source": [
    "from databricks.sdk import WorkspaceClient\n",
    "import json\n",
    "\n",
    "w = WorkspaceClient()\n",
    "\n",
    "securable_type = \"CATALOG\"\n",
    "securable_full_name = \"t3_a00cd1_snd_arg02_dbws01\"\n",
    "policy_name = \"13PII\"\n",
    "\n",
    "policy_payload={\n",
    " 'on_securable_type': 'CATALOG',\n",
    " 'on_securable_fullname': 't3_a00cd1_snd_arg02_dbws01',\n",
    " 'name': '13PII',\n",
    " 'comment': '',\n",
    " 'to_principals': ['account users'],\n",
    " 'except_principals': ['l205495@sandpit0x8a.onmicrosoft.com', 'Developer'],\n",
    " 'for_securable_type': 'TABLE',\n",
    " 'rule_type': 'RULE_TYPE_COLUMN_MASK',\n",
    " 'policy_type': 'POLICY_TYPE_COLUMN_MASK',\n",
    " 'column_mask': {'function_name': 't3_a00cd1_snd_arg02_dbws01.ext_parquet.mask_for_all_roles',\n",
    "  'on_column': 'm',\n",
    "  'condition': \"hasTagValue('SENSITIVITY','PII')\"},\n",
    " 'match_columns': [{'condition': \"hasTagValue('SENSITIVITY','PII')\",\n",
    "   'alias': 'm'}]}\n",
    " \n",
    "\n",
    "\n",
    "# Delete policy if it exists\n",
    "try:\n",
    "    w.api_client.do(\n",
    "        \"DELETE\",\n",
    "        f\"/api/2.1/unity-catalog/policies/{securable_type}/{securable_full_name}/{policy_name}\"\n",
    "    )\n",
    "    print(f\"Deleted existing policy: {policy_name}\")\n",
    "except Exception as e:\n",
    "    if \"does not exist\" in str(e) or \"RESOURCE_DOES_NOT_EXIST\" in str(e) or \"NotFound\" in str(e):\n",
    "        print(f\"No existing policy to delete: {policy_name}\")\n",
    "    else:\n",
    "        raise\n",
    "\n",
    "# Create the policy fresh\n",
    "print(f\"Creating new policy: {policy_name}\")\n",
    "w.api_client.do(\n",
    "    \"POST\",\n",
    "    \"/api/2.1/unity-catalog/policies/\",\n",
    "    data=json.dumps(policy_payload)\n",
    ")\n"
   ]
  },
  {
   "cell_type": "code",
   "execution_count": 0,
   "metadata": {
    "application/vnd.databricks.v1+cell": {
     "cellMetadata": {
      "byteLimit": 2048000,
      "implicitDf": true,
      "rowLimit": 10000
     },
     "inputWidgets": {},
     "nuid": "294bc44b-7d5d-448f-892d-8acf0618d51c",
     "showTitle": false,
     "tableResultSettingsMap": {},
     "title": ""
    }
   },
   "outputs": [],
   "source": [
    "%sql\n",
    "GRANT SELECT ON TABLE t3_a00cd1_snd_arg02_dbws01.ext_parquet.customer TO `Tester`;\n",
    "\n",
    "GRANT SELECT ON TABLE t3_a00cd1_snd_arg02_dbws01.ext_parquet.customer TO `Developer`;"
   ]
  }
 ],
 "metadata": {
  "application/vnd.databricks.v1+notebook": {
   "computePreferences": null,
   "dashboards": [],
   "environmentMetadata": {
    "base_environment": "",
    "environment_version": "2"
   },
   "inputWidgetPreferences": null,
   "language": "python",
   "notebookMetadata": {
    "mostRecentlyExecutedCommandWithImplicitDF": {
     "commandId": 5864021988087475,
     "dataframes": [
      "_sqldf"
     ]
    },
    "pythonIndentUnit": 4
   },
   "notebookName": "13PII And PHI",
   "widgets": {}
  },
  "language_info": {
   "name": "python"
  }
 },
 "nbformat": 4,
 "nbformat_minor": 0
}
