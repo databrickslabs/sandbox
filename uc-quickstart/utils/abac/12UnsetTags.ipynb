{
 "cells": [
  {
   "cell_type": "code",
   "execution_count": 0,
   "metadata": {
    "application/vnd.databricks.v1+cell": {
     "cellMetadata": {
      "byteLimit": 2048000,
      "implicitDf": true,
      "rowLimit": 10000
     },
     "inputWidgets": {},
     "nuid": "93bee7ca-58e5-48df-b083-778f0740ffe0",
     "showTitle": false,
     "tableResultSettingsMap": {},
     "title": ""
    }
   },
   "outputs": [],
   "source": [
    "%sql\n",
    "-- Remove DEVELOPER_ONLY from STORE.S_STORE_SK\n",
    "ALTER TABLE t3_a00cd1_snd_arg02_dbws01.ext_parquet.store\n",
    "ALTER COLUMN S_STORE_SK\n",
    "UNSET TAGS ('DEVELOPER_ONLY');\n",
    "\n",
    "-- Remove DEVELOPER_ONLY from STORE_SALES.SS_ITEM_SK\n",
    "ALTER TABLE t3_a00cd1_snd_arg02_dbws01.ext_parquet.store_sales\n",
    "ALTER COLUMN SS_ITEM_SK\n",
    "UNSET TAGS ('DEVELOPER_ONLY');\n",
    "\n",
    "-- Remove SENSITIVITY = 'PII' from CUSTOMER.C_CUSTOMER_SK\n",
    "ALTER TABLE t3_a00cd1_snd_arg02_dbws01.ext_parquet.customer\n",
    "ALTER COLUMN C_CUSTOMER_SK\n",
    "UNSET TAGS ('SENSITIVITY');\n",
    "\n",
    "-- Remove SENSITIVITY = 'PHI' from CUSTOMER.C_CURRENT_CDEMO_SK\n",
    "ALTER TABLE t3_a00cd1_snd_arg02_dbws01.ext_parquet.customer\n",
    "ALTER COLUMN C_CURRENT_CDEMO_SK\n",
    "UNSET TAGS ('SENSITIVITY');\n"
   ]
  }
 ],
 "metadata": {
  "application/vnd.databricks.v1+notebook": {
   "computePreferences": null,
   "dashboards": [],
   "environmentMetadata": {
    "base_environment": "",
    "environment_version": "2"
   },
   "inputWidgetPreferences": null,
   "language": "python",
   "notebookMetadata": {
    "mostRecentlyExecutedCommandWithImplicitDF": {
     "commandId": 5864021988087488,
     "dataframes": [
      "_sqldf"
     ]
    },
    "pythonIndentUnit": 4
   },
   "notebookName": "12UnsetTags",
   "widgets": {}
  },
  "language_info": {
   "name": "python"
  }
 },
 "nbformat": 4,
 "nbformat_minor": 0
}
