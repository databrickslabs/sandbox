{
 "cells": [
  {
   "cell_type": "code",
   "execution_count": 0,
   "metadata": {
    "application/vnd.databricks.v1+cell": {
     "cellMetadata": {
      "byteLimit": 2048000,
      "implicitDf": true,
      "rowLimit": 10000
     },
     "inputWidgets": {},
     "nuid": "aa5750a7-f337-4468-9d9c-32b7dba50f81",
     "showTitle": false,
     "tableResultSettingsMap": {},
     "title": ""
    }
   },
   "outputs": [],
   "source": [
    "%sql\n",
    "ALTER TABLE t3_a00cd1_snd_arg02_dbws01.ext_parquet.item\n",
    "SET TAGS ('SHARINGMODE' = 'INTERNALUSE');"
   ]
  },
  {
   "cell_type": "code",
   "execution_count": 0,
   "metadata": {
    "application/vnd.databricks.v1+cell": {
     "cellMetadata": {
      "byteLimit": 2048000,
      "implicitDf": true,
      "rowLimit": 10000
     },
     "inputWidgets": {},
     "nuid": "910c9dc7-8bff-4de8-b184-3863fd5401c9",
     "showTitle": false,
     "tableResultSettingsMap": {},
     "title": ""
    }
   },
   "outputs": [],
   "source": [
    "%sql\n",
    "SELECT *\n",
    "FROM t3_a00cd1_snd_arg02_dbws01.information_schema.table_tags\n",
    "WHERE table_name = 'item';"
   ]
  },
  {
   "cell_type": "code",
   "execution_count": 0,
   "metadata": {
    "application/vnd.databricks.v1+cell": {
     "cellMetadata": {
      "byteLimit": 2048000,
      "implicitDf": true,
      "rowLimit": 10000
     },
     "inputWidgets": {},
     "nuid": "2cefc846-ed15-4ce9-a391-708fe731734d",
     "showTitle": false,
     "tableResultSettingsMap": {},
     "title": ""
    }
   },
   "outputs": [],
   "source": [
    "%sql\n",
    "CREATE OR REPLACE FUNCTION  t3_a00cd1_snd_arg02_dbws01.ext_parquet.no_rows()\n",
    "RETURNS BOOLEAN\n",
    "RETURN FALSE;"
   ]
  },
  {
   "cell_type": "code",
   "execution_count": 0,
   "metadata": {
    "application/vnd.databricks.v1+cell": {
     "cellMetadata": {
      "byteLimit": 2048000,
      "rowLimit": 10000
     },
     "inputWidgets": {},
     "nuid": "d5de4c26-d3da-4cc9-80fe-814723fb5c2f",
     "showTitle": false,
     "tableResultSettingsMap": {},
     "title": ""
    }
   },
   "outputs": [],
   "source": [
    "policies = w.api_client.do(\"GET\", \"/api/2.1/unity-catalog/policies/TABLE/t3_a00cd1_snd_arg02_dbws01.ext_parquet.item\")\n",
    "for p in policies.get(\"policies\", []):\n",
    "    if \"3INTERNAL\" in p[\"name\"]:\n",
    "        print(p)"
   ]
  },
  {
   "cell_type": "code",
   "execution_count": 0,
   "metadata": {
    "application/vnd.databricks.v1+cell": {
     "cellMetadata": {
      "byteLimit": 2048000,
      "rowLimit": 10000
     },
     "inputWidgets": {},
     "nuid": "d581bcf3-dbc0-4355-8613-fee0f9135896",
     "showTitle": false,
     "tableResultSettingsMap": {},
     "title": ""
    }
   },
   "outputs": [],
   "source": [
    "from databricks.sdk import WorkspaceClient\n",
    "import json\n",
    "\n",
    "w = WorkspaceClient()\n",
    "\n",
    "securable_type = \"CATALOG\"\n",
    "securable_full_name = \"t3_a00cd1_snd_arg02_dbws01\"\n",
    "policy_name = \"32INTERNAL_USE\"\n",
    "\n",
    "policy_payload={\n",
    " 'on_securable_type': 'CATALOG',\n",
    " 'on_securable_fullname': 't3_a00cd1_snd_arg02_dbws01',\n",
    " 'name': '32INTERNAL_USE',\n",
    " 'comment': '',\n",
    " 'to_principals': ['account users'],\n",
    " 'except_principals': ['l205495@sandpit0x8a.onmicrosoft.com', 'Tester'],\n",
    " 'for_securable_type': 'TABLE',\n",
    " 'when_condition': 'hasTagValue(\"SHARINGMODE\",\"INTERNALUSE\")',\n",
    " 'rule_type': 'RULE_TYPE_ROW_FILTER',\n",
    " 'policy_type': 'POLICY_TYPE_ROW_FILTER',\n",
    " 'row_filter': {'function_name': 't3_a00cd1_snd_arg02_dbws01.ext_parquet.no_rows'}\n",
    " }\n",
    " \n",
    "\n",
    "\n",
    "# Delete policy if it exists\n",
    "try:\n",
    "    w.api_client.do(\n",
    "        \"DELETE\",\n",
    "        f\"/api/2.1/unity-catalog/policies/{securable_type}/{securable_full_name}/{policy_name}\"\n",
    "    )\n",
    "    print(f\"Deleted existing policy: {policy_name}\")\n",
    "except Exception as e:\n",
    "    if \"does not exist\" in str(e) or \"RESOURCE_DOES_NOT_EXIST\" in str(e) or \"NotFound\" in str(e):\n",
    "        print(f\"No existing policy to delete: {policy_name}\")\n",
    "    else:\n",
    "        raise\n",
    "\n",
    "# Create the policy fresh\n",
    "print(f\"Creating new policy: {policy_name}\")\n",
    "w.api_client.do(\n",
    "    \"POST\",\n",
    "    \"/api/2.1/unity-catalog/policies/\",\n",
    "    data=json.dumps(policy_payload)\n",
    ")\n"
   ]
  },
  {
   "cell_type": "code",
   "execution_count": 0,
   "metadata": {
    "application/vnd.databricks.v1+cell": {
     "cellMetadata": {
      "byteLimit": 2048000,
      "rowLimit": 10000
     },
     "inputWidgets": {},
     "nuid": "b45d17e1-e566-420d-9729-adca5d1917e0",
     "showTitle": false,
     "tableResultSettingsMap": {},
     "title": ""
    }
   },
   "outputs": [],
   "source": [
    "from databricks.sdk import WorkspaceClient\n",
    "import json\n",
    "\n",
    "w = WorkspaceClient()\n",
    "\n",
    "securable_type = \"TABLE\"\n",
    "securable_full_name = \"t3_a00cd1_snd_arg02_dbws01.ext_parquet.item\"\n",
    "policy_name = \"3INTERNALUSE\"\n",
    "\n",
    "policy_payload = {\n",
    "    \"on_securable_type\": securable_type,\n",
    "    \"on_securable_fullname\": securable_full_name,\n",
    "    \"name\": policy_name,\n",
    "    \"comment\": \"\",\n",
    "    \"to_principals\": [\"Tester\"],\n",
    "    \"except_principals\": [\"l205495@sandpit0x8a.onmicrosoft.com\"],\n",
    "    \"for_securable_type\": \"TABLE\",\n",
    "    \"when_condition\": \"not hasTagValue(\\\"SHARINGMODE\\\",\\\"INTERNALUSE\\\")\",\n",
    "    \"policy_type\": \"POLICY_TYPE_ROW_FILTER\",\n",
    "    \"rule_type\": \"RULE_TYPE_ROW_FILTER\",\n",
    "    \"row_filter\": {\n",
    "        \"function_name\": \"t3_a00cd1_snd_arg02_dbws01.ext_parquet.no_rows\"\n",
    "    }\n",
    "}\n",
    "\n",
    "# DELETE the policy first if it exists\n",
    "try:\n",
    "    delete_endpoint = f\"/api/2.1/unity-catalog/policies/{securable_type}/{securable_full_name}/{policy_name}\"\n",
    "    w.api_client.do(\"DELETE\", delete_endpoint)\n",
    "    print(f\"Deleted existing policy: {policy_name}\")\n",
    "except Exception as e:\n",
    "    if \"does not exist\" in str(e) or \"RESOURCE_DOES_NOT_EXIST\" in str(e) or \"NotFound\" in str(e):\n",
    "        print(f\"No existing policy to delete: {policy_name}\")\n",
    "    else:\n",
    "        raise\n",
    "\n",
    "# CREATE the policy fresh\n",
    "print(f\"Creating new policy: {policy_name}\")\n",
    "w.api_client.do(\n",
    "    \"POST\",\n",
    "    \"/api/2.1/unity-catalog/policies/\",\n",
    "    data=json.dumps(policy_payload)\n",
    ")\n"
   ]
  },
  {
   "cell_type": "code",
   "execution_count": 0,
   "metadata": {
    "application/vnd.databricks.v1+cell": {
     "cellMetadata": {
      "byteLimit": 2048000,
      "implicitDf": true,
      "rowLimit": 10000
     },
     "inputWidgets": {},
     "nuid": "a6466842-cc0f-486d-b44b-c63b7f27a5ec",
     "showTitle": false,
     "tableResultSettingsMap": {},
     "title": ""
    }
   },
   "outputs": [],
   "source": [
    "%sql\n",
    "ALTER TABLE t3_a00cd1_snd_arg02_dbws01.ext_parquet.item\n",
    "UNSET TAGS ('SHARINGMODE');\n"
   ]
  },
  {
   "cell_type": "code",
   "execution_count": 0,
   "metadata": {
    "application/vnd.databricks.v1+cell": {
     "cellMetadata": {
      "byteLimit": 2048000,
      "implicitDf": true,
      "rowLimit": 10000
     },
     "inputWidgets": {},
     "nuid": "2336bb0b-821e-42b0-a17c-5eb459042b10",
     "showTitle": false,
     "tableResultSettingsMap": {},
     "title": ""
    }
   },
   "outputs": [],
   "source": [
    "%sql\n",
    "SELECT *\n",
    "FROM t3_a00cd1_snd_arg02_dbws01.information_schema.table_tags\n",
    "WHERE table_name = 'item';"
   ]
  },
  {
   "cell_type": "code",
   "execution_count": 0,
   "metadata": {
    "application/vnd.databricks.v1+cell": {
     "cellMetadata": {
      "byteLimit": 2048000,
      "implicitDf": true,
      "rowLimit": 10000
     },
     "inputWidgets": {},
     "nuid": "fafab956-d65f-4979-9f70-9e416d947499",
     "showTitle": false,
     "tableResultSettingsMap": {},
     "title": ""
    }
   },
   "outputs": [],
   "source": [
    "%sql\n",
    "ALTER TABLE t3_a00cd1_snd_arg02_dbws01.ext_parquet.item\n",
    "SET TAGS ('SHARINGMODE' = 'INTERNALUSE');"
   ]
  }
 ],
 "metadata": {
  "application/vnd.databricks.v1+notebook": {
   "computePreferences": null,
   "dashboards": [],
   "environmentMetadata": {
    "base_environment": "",
    "environment_version": "2"
   },
   "inputWidgetPreferences": null,
   "language": "python",
   "notebookMetadata": {
    "mostRecentlyExecutedCommandWithImplicitDF": {
     "commandId": 8922675975794941,
     "dataframes": [
      "_sqldf"
     ]
    },
    "pythonIndentUnit": 4
   },
   "notebookName": "InternalUse",
   "widgets": {}
  },
  "language_info": {
   "name": "python"
  }
 },
 "nbformat": 4,
 "nbformat_minor": 0
}
