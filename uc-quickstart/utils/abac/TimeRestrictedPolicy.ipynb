{
 "cells": [
  {
   "cell_type": "code",
   "execution_count": 0,
   "metadata": {
    "application/vnd.databricks.v1+cell": {
     "cellMetadata": {
      "byteLimit": 2048000,
      "implicitDf": true,
      "rowLimit": 10000
     },
     "inputWidgets": {},
     "nuid": "2cefc846-ed15-4ce9-a391-708fe731734d",
     "showTitle": false,
     "tableResultSettingsMap": {},
     "title": ""
    }
   },
   "outputs": [],
   "source": [
    "%sql\n",
    "CREATE OR REPLACE FUNCTION  t3_a00cd1_snd_arg02_dbws01.ext_parquet.business_hours_filter()\n",
    "RETURNS BOOLEAN\n",
    "RETURN hour(from_utc_timestamp(current_timestamp(), 'Australia/Melbourne')) BETWEEN 9 AND 12;"
   ]
  },
  {
   "cell_type": "code",
   "execution_count": 0,
   "metadata": {
    "application/vnd.databricks.v1+cell": {
     "cellMetadata": {
      "byteLimit": 2048000,
      "implicitDf": true,
      "rowLimit": 10000
     },
     "inputWidgets": {},
     "nuid": "3a9e22e2-a37f-43a1-abd8-3ec9a917c40f",
     "showTitle": false,
     "tableResultSettingsMap": {},
     "title": ""
    }
   },
   "outputs": [],
   "source": [
    "%sql\n",
    "ALTER TABLE t3_a00cd1_snd_arg02_dbws01.ext_parquet.item\n",
    "SET TAGS ('SHARINGMODE' = 'TIMERESTRICTED');"
   ]
  },
  {
   "cell_type": "code",
   "execution_count": 0,
   "metadata": {
    "application/vnd.databricks.v1+cell": {
     "cellMetadata": {
      "byteLimit": 2048000,
      "rowLimit": 10000
     },
     "inputWidgets": {},
     "nuid": "d581bcf3-dbc0-4355-8613-fee0f9135896",
     "showTitle": false,
     "tableResultSettingsMap": {},
     "title": ""
    }
   },
   "outputs": [],
   "source": [
    "from databricks.sdk import WorkspaceClient\n",
    "import json\n",
    "\n",
    "w = WorkspaceClient()\n",
    "\n",
    "securable_type = \"CATALOG\"\n",
    "securable_full_name = \"t3_a00cd1_snd_arg02_dbws01\"\n",
    "policy_name = \"4TIMERESTRICTED\"\n",
    "\n",
    "policy_payload = {\n",
    " 'on_securable_type': 'CATALOG',\n",
    " 'on_securable_fullname': 't3_a00cd1_snd_arg02_dbws01',\n",
    " 'name': '4TIMERESTRICTED',\n",
    " 'comment': '',\n",
    " 'to_principals': ['account users'],\n",
    " 'except_principals': ['l205495@sandpit0x8a.onmicrosoft.com'],\n",
    " 'for_securable_type': 'TABLE',\n",
    " 'when_condition': 'hasTagValue(\"SHARINGMODE\",\"TIMERESTRICTED\")',\n",
    " 'rule_type': 'RULE_TYPE_ROW_FILTER',\n",
    " 'policy_type': 'POLICY_TYPE_ROW_FILTER',\n",
    " 'row_filter': {'function_name': 't3_a00cd1_snd_arg02_dbws01.ext_parquet.business_hours_filter'}\n",
    " }\n",
    "\n",
    "\n",
    "\n",
    "# DELETE the policy first if it exists\n",
    "try:\n",
    "    delete_endpoint = f\"/api/2.1/unity-catalog/policies/{securable_type}/{securable_full_name}/{policy_name}\"\n",
    "    w.api_client.do(\"DELETE\", delete_endpoint)\n",
    "    print(f\"Deleted existing policy: {policy_name}\")\n",
    "except Exception as e:\n",
    "    if \"does not exist\" in str(e) or \"RESOURCE_DOES_NOT_EXIST\" in str(e) or \"NotFound\" in str(e):\n",
    "        print(f\"No existing policy to delete: {policy_name}\")\n",
    "    else:\n",
    "        raise\n",
    "\n",
    "# CREATE the policy fresh\n",
    "print(f\"Creating new policy: {policy_name}\")\n",
    "w.api_client.do(\n",
    "    \"POST\",\n",
    "    \"/api/2.1/unity-catalog/policies/\",\n",
    "    data=json.dumps(policy_payload)\n",
    ")\n",
    "\n"
   ]
  }
 ],
 "metadata": {
  "application/vnd.databricks.v1+notebook": {
   "computePreferences": null,
   "dashboards": [],
   "environmentMetadata": {
    "base_environment": "",
    "environment_version": "2"
   },
   "inputWidgetPreferences": null,
   "language": "python",
   "notebookMetadata": {
    "mostRecentlyExecutedCommandWithImplicitDF": {
     "commandId": 8922675975794950,
     "dataframes": [
      "_sqldf"
     ]
    },
    "pythonIndentUnit": 4
   },
   "notebookName": "TimeRestrictedPolicy",
   "widgets": {}
  },
  "language_info": {
   "name": "python"
  }
 },
 "nbformat": 4,
 "nbformat_minor": 0
}
