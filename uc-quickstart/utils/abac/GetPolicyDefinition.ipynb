{
 "cells": [
  {
   "cell_type": "code",
   "execution_count": 0,
   "metadata": {
    "application/vnd.databricks.v1+cell": {
     "cellMetadata": {
      "byteLimit": 2048000,
      "rowLimit": 10000
     },
     "inputWidgets": {},
     "nuid": "3f7a422b-d96f-46c5-9a7b-e980b6ddc145",
     "showTitle": false,
     "tableResultSettingsMap": {},
     "title": ""
    }
   },
   "outputs": [],
   "source": [
    "from databricks.sdk import WorkspaceClient\n",
    "import json\n",
    "\n",
    "w = WorkspaceClient()\n",
    "\n",
    "# securable_type = \"CATALOG\"\n",
    "# securable_full_name = \"t3_a00cd1_snd_arg02_dbws01\"\n",
    "# policy_name = \"3INTERNALUSE\"\n",
    "\n",
    "\n",
    "\n",
    "\n",
    "policies = w.api_client.do(\"GET\", \"/api/2.1/unity-catalog/policies/CATALOG/t3_a00cd1_snd_arg02_dbws01/13PII\")\n",
    "policies"
   ]
  }
 ],
 "metadata": {
  "application/vnd.databricks.v1+notebook": {
   "computePreferences": null,
   "dashboards": [],
   "environmentMetadata": {
    "base_environment": "",
    "environment_version": "2"
   },
   "inputWidgetPreferences": null,
   "language": "python",
   "notebookMetadata": {
    "pythonIndentUnit": 4
   },
   "notebookName": "GetPolicyDefinition",
   "widgets": {}
  },
  "language_info": {
   "name": "python"
  }
 },
 "nbformat": 4,
 "nbformat_minor": 0
}
