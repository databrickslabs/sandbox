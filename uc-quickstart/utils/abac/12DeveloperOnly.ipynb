{
 "cells": [
  {
   "cell_type": "code",
   "execution_count": 0,
   "metadata": {
    "application/vnd.databricks.v1+cell": {
     "cellMetadata": {
      "byteLimit": 2048000,
      "implicitDf": true,
      "rowLimit": 10000
     },
     "inputWidgets": {},
     "nuid": "18d234ff-2208-4428-a47f-6417d2a499ae",
     "showTitle": false,
     "tableResultSettingsMap": {},
     "title": ""
    }
   },
   "outputs": [],
   "source": [
    "%sql\n",
    "ALTER TABLE t3_a00cd1_snd_arg02_dbws01.ext_parquet.store\n",
    "ALTER COLUMN S_STORE_SK\n",
    "SET TAGS ('DEVELOPER_ONLY');\n",
    "\n",
    "\n",
    "\n"
   ]
  },
  {
   "cell_type": "code",
   "execution_count": 0,
   "metadata": {
    "application/vnd.databricks.v1+cell": {
     "cellMetadata": {
      "byteLimit": 2048000,
      "implicitDf": true,
      "rowLimit": 10000
     },
     "inputWidgets": {},
     "nuid": "961b9c90-726f-4a19-8cc3-0cb12ff9b0a2",
     "showTitle": false,
     "tableResultSettingsMap": {},
     "title": ""
    }
   },
   "outputs": [],
   "source": [
    "%sql\n",
    "GRANT SELECT ON TABLE t3_a00cd1_snd_arg02_dbws01.ext_parquet.store TO `Tester`;\n",
    "\n",
    "GRANT SELECT ON TABLE t3_a00cd1_snd_arg02_dbws01.ext_parquet.store TO `Developer`;\n",
    "\n"
   ]
  },
  {
   "cell_type": "code",
   "execution_count": 0,
   "metadata": {
    "application/vnd.databricks.v1+cell": {
     "cellMetadata": {
      "byteLimit": 2048000,
      "rowLimit": 10000
     },
     "inputWidgets": {},
     "nuid": "4170da05-6b1b-4e56-85eb-960a855139cc",
     "showTitle": false,
     "tableResultSettingsMap": {},
     "title": ""
    }
   },
   "outputs": [],
   "source": [
    "from databricks.sdk import WorkspaceClient\n",
    "import json\n",
    "\n",
    "w = WorkspaceClient()\n",
    "\n",
    "securable_type = \"CATALOG\"\n",
    "securable_full_name = \"t3_a00cd1_snd_arg02_dbws01\"\n",
    "policy_name = \"12DEVELOPER_ONLY\"\n",
    "\n",
    "policy_payload={\n",
    " 'on_securable_type': 'CATALOG',\n",
    " 'on_securable_fullname': 't3_a00cd1_snd_arg02_dbws01',\n",
    " 'name': '12DEVELOPER_ONLY',\n",
    " 'comment': '',\n",
    " 'to_principals': ['account users'],\n",
    " 'except_principals': ['l205495@sandpit0x8a.onmicrosoft.com', 'Developer'],\n",
    " 'for_securable_type': 'TABLE',\n",
    " 'rule_type': 'RULE_TYPE_COLUMN_MASK',\n",
    " 'policy_type': 'POLICY_TYPE_COLUMN_MASK',\n",
    " 'column_mask': {'function_name': 't3_a00cd1_snd_arg02_dbws01.ext_parquet.mask_for_all_roles',\n",
    "  'on_column': 'm',\n",
    "  'condition': \"hasTag('DEVELOPER_ONLY')\"},\n",
    " 'match_columns': [{'condition': \"hasTag('DEVELOPER_ONLY')\", 'alias': 'm'}]}\n",
    " \n",
    "\n",
    "\n",
    "# Delete policy if it exists\n",
    "try:\n",
    "    w.api_client.do(\n",
    "        \"DELETE\",\n",
    "        f\"/api/2.1/unity-catalog/policies/{securable_type}/{securable_full_name}/{policy_name}\"\n",
    "    )\n",
    "    print(f\"Deleted existing policy: {policy_name}\")\n",
    "except Exception as e:\n",
    "    if \"does not exist\" in str(e) or \"RESOURCE_DOES_NOT_EXIST\" in str(e) or \"NotFound\" in str(e):\n",
    "        print(f\"No existing policy to delete: {policy_name}\")\n",
    "    else:\n",
    "        raise\n",
    "\n",
    "# Create the policy fresh\n",
    "print(f\"Creating new policy: {policy_name}\")\n",
    "w.api_client.do(\n",
    "    \"POST\",\n",
    "    \"/api/2.1/unity-catalog/policies/\",\n",
    "    data=json.dumps(policy_payload)\n",
    ")\n"
   ]
  }
 ],
 "metadata": {
  "application/vnd.databricks.v1+notebook": {
   "computePreferences": null,
   "dashboards": [],
   "environmentMetadata": {
    "base_environment": "",
    "environment_version": "2"
   },
   "inputWidgetPreferences": null,
   "language": "python",
   "notebookMetadata": {
    "mostRecentlyExecutedCommandWithImplicitDF": {
     "commandId": 5864021988087472,
     "dataframes": [
      "_sqldf"
     ]
    },
    "pythonIndentUnit": 4
   },
   "notebookName": "12DeveloperOnly",
   "widgets": {}
  },
  "language_info": {
   "name": "python"
  }
 },
 "nbformat": 4,
 "nbformat_minor": 0
}
