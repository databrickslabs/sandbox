{
 "cells": [
  {
   "cell_type": "code",
   "execution_count": 1,
   "metadata": {},
   "outputs": [],
   "source": [
    "from clonecatalog import CloneCatalog"
   ]
  },
  {
   "cell_type": "code",
   "execution_count": 2,
   "metadata": {},
   "outputs": [
    {
     "name": "stdout",
     "output_type": "stream",
     "text": [
      "\u001b[36mCreating external locations if they do not exist for the schemas based on the input dictionary.\u001b[0m\n",
      "   External location eo000_ext_db_loc01 already exists and will be used for db1.\u001b[0m\n",
      "   External location eo000_ext_db_loc01 already exists and will be used for db2.\u001b[0m\n",
      "   External location eo000_ext_db_loc02 already exists and will be used for db_empty.\u001b[0m\n",
      "\u001b[36mCreating data assets if they do not exist and clone permissions, comments and tags.\u001b[0m\n",
      "   Creating External location eo000_ext_loc_ctg6 and transferring permissions, comments and tags ...\u001b[0m \u001b[32mDONE!\u001b[0m\n",
      "      Creating Catalog eo000_ctg_ext_loc6 and transferring permissions, comments and tags ...\u001b[0m \u001b[32mDONE!\u001b[0m\n",
      "         Creating Schema db1 and transferring permissions, comments and tags ...\u001b[0m \u001b[32mDONE!\u001b[0m\n",
      "            Creating Table tbl1 and transferring permissions, comments and tags ...\u001b[0m \u001b[32mDONE!\u001b[0m\n",
      "            Creating Table tbl1_new and transferring permissions, comments and tags ...\u001b[0m \u001b[32mDONE!\u001b[0m\n",
      "         Creating Schema db2 and transferring permissions, comments and tags ...\u001b[0m \u001b[32mDONE!\u001b[0m\n",
      "         Creating Schema db_empty and transferring permissions, comments and tags ...\u001b[0m \u001b[32mDONE!\u001b[0m\n",
      "         Creating Schema db_ext and transferring permissions, comments and tags ...\u001b[0m \u001b[32mDONE!\u001b[0m\n",
      "            Creating Table tblx and transferring permissions, comments and tags ...\u001b[0m \u001b[32mDONE!\u001b[0m\n",
      "         Creating Schema db_func and transferring permissions, comments and tags ...\u001b[0m \u001b[32mDONE!\u001b[0m\n",
      "            Creating Table tbl1 and transferring permissions, comments and tags ...\u001b[0m \u001b[43m\u001b[31mQuery on table eo000_ctg_ext_loc2.db_func.tbl1 with row filter or column mask not supported on assigned clusters.\u001b[0m\n",
      "            Creating Table tbl2 and transferring permissions, comments and tags ...\u001b[0m \u001b[43m\u001b[31mQuery on table eo000_ctg_ext_loc2.db_func.tbl2 with row filter or column mask not supported on assigned clusters.\u001b[0m\n",
      "         Creating Schema db_other_assets and transferring permissions, comments and tags ...\u001b[0m \u001b[32mDONE!\u001b[0m\n",
      "            Creating Table tbl1 and transferring permissions, comments and tags ...\u001b[0m \u001b[43m\u001b[31mUser does not have USE SCHEMA on Schema 'eo000_ctg_ext_loc2.db_other_assets'.\u001b[0m\n",
      "            Creating Table tbl2 and transferring permissions, comments and tags ...\u001b[0m \u001b[43m\u001b[31mUser does not have USE SCHEMA on Schema 'eo000_ctg_ext_loc2.db_other_assets'.\u001b[0m\n",
      "            Creating Table valid_groups and transferring permissions, comments and tags ...\u001b[0m \u001b[43m\u001b[31mUser does not have USE SCHEMA on Schema 'eo000_ctg_ext_loc2.db_other_assets'.\u001b[0m\n",
      "         Schema default already exists. Only transferring permissions, comments and tags ...\u001b[0m \u001b[32mDONE!\u001b[0m\n",
      "            Creating Table tbl1 and transferring permissions, comments and tags ...\u001b[0m \u001b[43m\u001b[31mUser does not have SELECT on Table 'eo000_ctg_ext_loc2.default.tbl1'.\u001b[0m\n",
      "         Schema information_schema already exists. Only transferring permissions, comments and tags ...\u001b[0m \u001b[32mDONE!\u001b[0m\n"
     ]
    }
   ],
   "source": [
    "#If you are cloning a Catalog with a managed external location\n",
    "inputs = dict(\n",
    "    source_catalog_external_location_name = 'eo000_ext_loc_ctg2',\n",
    "    source_catalog_name = 'eo000_ctg_ext_loc2',\n",
    "    target_catalog_external_location_pre_req = ['eo000_ext_loc_ctg6', 'field_demos_credential', 'abfss://eo000ext6@oneenvadls.dfs.core.windows.net/'],\n",
    "    target_catalog_name = 'eo000_ctg_ext_loc6')\n",
    "\n",
    "schemas_locations_dict = {\n",
    "    'db1': ['eo000_ext_db_loc01', 'field_demos_credential', 'abfss://eo000extdb0@oneenvadls.dfs.core.windows.net/'],\n",
    "    'db2': ['eo000_ext_db_loc01', 'field_demos_credential', 'abfss://eo000extdb0@oneenvadls.dfs.core.windows.net/'],\n",
    "    'db_empty': ['eo000_ext_db_loc02', 'field_demos_credential', 'abfss://eo000extdb1@oneenvadls.dfs.core.windows.net/']\n",
    "}\n",
    "\n",
    "\n",
    "clone = CloneCatalog(**inputs, schemas_locations_dict=schemas_locations_dict)\n",
    "clone()"
   ]
  },
  {
   "cell_type": "code",
   "execution_count": 3,
   "metadata": {},
   "outputs": [
    {
     "name": "stdout",
     "output_type": "stream",
     "text": [
      "\u001b[36mCreating external locations if they do not exist for the schemas based on the input dictionary.\u001b[0m\n",
      "   External location eo000_ext_db_loc01 already exists and will be used for db1.\u001b[0m\n",
      "   External location eo000_ext_db_loc01 already exists and will be used for db2.\u001b[0m\n",
      "   External location eo000_ext_db_loc02 already exists and will be used for db_empty.\u001b[0m\n",
      "\u001b[36mCreating data assets if they do not exist and clone permissions, comments and tags.\u001b[0m\n",
      "   Creating External location eo000_ext_loc_ctg8 and transferring permissions, comments and tags ...\u001b[0m \u001b[32mDONE!\u001b[0m\n",
      "      Creating Catalog eo000_ctg_ext_loc8 and transferring permissions, comments and tags ...\u001b[0m \u001b[32mDONE!\u001b[0m\n",
      "         Creating Schema db1 and transferring permissions, comments and tags ...\u001b[0m \u001b[32mDONE!\u001b[0m\n",
      "            Creating Table tbl1 and transferring permissions, comments and tags ...\u001b[0m \u001b[32mDONE!\u001b[0m\n",
      "         Creating Schema db2 and transferring permissions, comments and tags ...\u001b[0m \u001b[32mDONE!\u001b[0m\n",
      "            Creating Table tblx and transferring permissions, comments and tags ...\u001b[0m \u001b[32mDONE!\u001b[0m\n",
      "         Schema default already exists. Only transferring permissions, comments and tags ...\u001b[0m \u001b[32mDONE!\u001b[0m\n",
      "         Schema information_schema already exists. Only transferring permissions, comments and tags ...\u001b[0m \u001b[32mDONE!\u001b[0m\n"
     ]
    }
   ],
   "source": [
    "#If you are cloning a Catalog with a default managed location\n",
    "inputs = dict(\n",
    "    source_catalog_external_location_name = None,\n",
    "    source_catalog_name = 'eo000_ctg1',\n",
    "    target_catalog_external_location_pre_req = ['eo000_ext_loc_ctg8', 'field_demos_credential', 'abfss://eo000ext8@oneenvadls.dfs.core.windows.net/root'],\n",
    "    target_catalog_name = 'eo000_ctg_ext_loc8')\n",
    "\n",
    "schemas_locations_dict = {\n",
    "    'db1': ['eo000_ext_db_loc01', 'field_demos_credential', 'abfss://eo000extdb0@oneenvadls.dfs.core.windows.net/rootdb'],\n",
    "    'db2': ['eo000_ext_db_loc01', 'field_demos_credential', 'abfss://eo000extdb0@oneenvadls.dfs.core.windows.net/'],\n",
    "    'db_empty': ['eo000_ext_db_loc02', 'field_demos_credential', 'abfss://eo000extdb1@oneenvadls.dfs.core.windows.net/']\n",
    "}\n",
    "\n",
    "\n",
    "clone = CloneCatalog(**inputs, schemas_locations_dict=schemas_locations_dict)\n",
    "clone()"
   ]
  }
 ],
 "metadata": {
  "kernelspec": {
   "display_name": "databricks-sdk",
   "language": "python",
   "name": "python3"
  },
  "language_info": {
   "codemirror_mode": {
    "name": "ipython",
    "version": 3
   },
   "file_extension": ".py",
   "mimetype": "text/x-python",
   "name": "python",
   "nbconvert_exporter": "python",
   "pygments_lexer": "ipython3",
   "version": "3.10.12"
  }
 },
 "nbformat": 4,
 "nbformat_minor": 2
}
